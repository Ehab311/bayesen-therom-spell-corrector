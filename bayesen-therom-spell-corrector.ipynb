{
 "cells": [
  {
   "cell_type": "code",
   "execution_count": 1,
   "id": "0fe38892",
   "metadata": {
    "_cell_guid": "b1076dfc-b9ad-4769-8c92-a6c4dae69d19",
    "_uuid": "8f2839f25d086af736a60e9eeb907d3b93b6e0e5",
    "execution": {
     "iopub.execute_input": "2023-12-11T11:31:58.379342Z",
     "iopub.status.busy": "2023-12-11T11:31:58.378815Z",
     "iopub.status.idle": "2023-12-11T11:31:58.391844Z",
     "shell.execute_reply": "2023-12-11T11:31:58.390944Z"
    },
    "papermill": {
     "duration": 0.022749,
     "end_time": "2023-12-11T11:31:58.394236",
     "exception": false,
     "start_time": "2023-12-11T11:31:58.371487",
     "status": "completed"
    },
    "tags": []
   },
   "outputs": [],
   "source": [
    "import re\n",
    "from collections import Counter\n"
   ]
  },
  {
   "cell_type": "code",
   "execution_count": 2,
   "id": "54ce2683",
   "metadata": {
    "execution": {
     "iopub.execute_input": "2023-12-11T11:31:58.406580Z",
     "iopub.status.busy": "2023-12-11T11:31:58.406197Z",
     "iopub.status.idle": "2023-12-11T11:31:59.466445Z",
     "shell.execute_reply": "2023-12-11T11:31:59.465204Z"
    },
    "papermill": {
     "duration": 1.069526,
     "end_time": "2023-12-11T11:31:59.469190",
     "exception": false,
     "start_time": "2023-12-11T11:31:58.399664",
     "status": "completed"
    },
    "tags": []
   },
   "outputs": [],
   "source": [
    "def words(text): return re.findall(r'\\w+', text.lower())\n",
    "\n",
    "sherlock = Counter(words(open('/kaggle/input/a2data1/sherlock.txt').read()))\n",
    "testset1 = Counter(words(open('/kaggle/input/a2data1/test.txt').read()))\n",
    "aspell = Counter(words(open('/kaggle/input/spelling/aspell.txt').read()))\n",
    "big = Counter(words(open('/kaggle/input/spelling/big.txt').read()))\n",
    "birkbeck = Counter(words(open('/kaggle/input/spelling/birkbeck.txt').read()))\n",
    "testset2 = Counter(words(open('/kaggle/input/spelling/spell-testset1.txt').read()))\n",
    "testset3 = Counter(words(open('/kaggle/input/spelling/spell-testset2.txt').read()))\n",
    "wikipedia = Counter(words(open('/kaggle/input/spelling/wikipedia.txt').read()))\n",
    "WORDS = sherlock  + aspell + big + birkbeck +  wikipedia\n",
    "TEST = testset1 + testset2 + testset3\n"
   ]
  },
  {
   "cell_type": "code",
   "execution_count": 3,
   "id": "2323d83e",
   "metadata": {
    "execution": {
     "iopub.execute_input": "2023-12-11T11:31:59.481304Z",
     "iopub.status.busy": "2023-12-11T11:31:59.480880Z",
     "iopub.status.idle": "2023-12-11T11:31:59.487349Z",
     "shell.execute_reply": "2023-12-11T11:31:59.486314Z"
    },
    "papermill": {
     "duration": 0.015152,
     "end_time": "2023-12-11T11:31:59.489618",
     "exception": false,
     "start_time": "2023-12-11T11:31:59.474466",
     "status": "completed"
    },
    "tags": []
   },
   "outputs": [],
   "source": [
    "def P(word, N=sum(WORDS.values())): \n",
    "    #\"Probability of `word`.\"\n",
    "    return WORDS[word] / N\n"
   ]
  },
  {
   "cell_type": "code",
   "execution_count": 4,
   "id": "8b5d6397",
   "metadata": {
    "execution": {
     "iopub.execute_input": "2023-12-11T11:31:59.501703Z",
     "iopub.status.busy": "2023-12-11T11:31:59.501319Z",
     "iopub.status.idle": "2023-12-11T11:31:59.507425Z",
     "shell.execute_reply": "2023-12-11T11:31:59.506357Z"
    },
    "papermill": {
     "duration": 0.015083,
     "end_time": "2023-12-11T11:31:59.509914",
     "exception": false,
     "start_time": "2023-12-11T11:31:59.494831",
     "status": "completed"
    },
    "tags": []
   },
   "outputs": [],
   "source": [
    "def correction(word):\n",
    "    # Generate possible corrections\n",
    "    candidates_list = candidates(word)\n",
    "\n",
    "    # Calculate probability for each candidate\n",
    "    probabilities = {candidate: P(candidate) for candidate in candidates_list}\n",
    "\n",
    "    # Return the correction with the highest probability\n",
    "    return max(probabilities, key=probabilities.get)\n"
   ]
  },
  {
   "cell_type": "code",
   "execution_count": 5,
   "id": "2942dffa",
   "metadata": {
    "execution": {
     "iopub.execute_input": "2023-12-11T11:31:59.522217Z",
     "iopub.status.busy": "2023-12-11T11:31:59.521840Z",
     "iopub.status.idle": "2023-12-11T11:31:59.527566Z",
     "shell.execute_reply": "2023-12-11T11:31:59.526318Z"
    },
    "papermill": {
     "duration": 0.015466,
     "end_time": "2023-12-11T11:31:59.530641",
     "exception": false,
     "start_time": "2023-12-11T11:31:59.515175",
     "status": "completed"
    },
    "tags": []
   },
   "outputs": [],
   "source": [
    "def candidates(word):\n",
    "    return (known([word]) or known(edits1(word)) or known(edits2(word)) or [word])\n"
   ]
  },
  {
   "cell_type": "code",
   "execution_count": 6,
   "id": "489df714",
   "metadata": {
    "execution": {
     "iopub.execute_input": "2023-12-11T11:31:59.542715Z",
     "iopub.status.busy": "2023-12-11T11:31:59.542348Z",
     "iopub.status.idle": "2023-12-11T11:31:59.547096Z",
     "shell.execute_reply": "2023-12-11T11:31:59.545979Z"
    },
    "papermill": {
     "duration": 0.013601,
     "end_time": "2023-12-11T11:31:59.549439",
     "exception": false,
     "start_time": "2023-12-11T11:31:59.535838",
     "status": "completed"
    },
    "tags": []
   },
   "outputs": [],
   "source": [
    "def known(words): \n",
    "    ## \"The subset of `words` that appear in the dictionary of WORDS.\"\n",
    "    return set(w for w in words if w in WORDS)\n"
   ]
  },
  {
   "cell_type": "code",
   "execution_count": 7,
   "id": "d2ec12d8",
   "metadata": {
    "execution": {
     "iopub.execute_input": "2023-12-11T11:31:59.561839Z",
     "iopub.status.busy": "2023-12-11T11:31:59.561465Z",
     "iopub.status.idle": "2023-12-11T11:31:59.569509Z",
     "shell.execute_reply": "2023-12-11T11:31:59.568353Z"
    },
    "papermill": {
     "duration": 0.017052,
     "end_time": "2023-12-11T11:31:59.571860",
     "exception": false,
     "start_time": "2023-12-11T11:31:59.554808",
     "status": "completed"
    },
    "tags": []
   },
   "outputs": [],
   "source": [
    "def edits1(word):\n",
    "    #\"All edits that are one edit away from `word`.\"\n",
    "    letters    = 'abcdefghijklmnopqrstuvwxyz'\n",
    "    splits     = [(word[:i], word[i:])    for i in range(len(word) + 1)]\n",
    "    deletes    = [L + R[1:]               for L, R in splits if R]\n",
    "    transposes = [L + R[1] + R[0] + R[2:] for L, R in splits if len(R)>1]\n",
    "    replaces   = [L + c + R[1:]           for L, R in splits if R for c in letters]\n",
    "    inserts    = [L + c + R               for L, R in splits for c in letters]\n",
    "    return set(deletes + transposes + replaces + inserts)\n"
   ]
  },
  {
   "cell_type": "code",
   "execution_count": 8,
   "id": "0acf4dd5",
   "metadata": {
    "execution": {
     "iopub.execute_input": "2023-12-11T11:31:59.584039Z",
     "iopub.status.busy": "2023-12-11T11:31:59.583662Z",
     "iopub.status.idle": "2023-12-11T11:31:59.589122Z",
     "shell.execute_reply": "2023-12-11T11:31:59.587984Z"
    },
    "papermill": {
     "duration": 0.014496,
     "end_time": "2023-12-11T11:31:59.591550",
     "exception": false,
     "start_time": "2023-12-11T11:31:59.577054",
     "status": "completed"
    },
    "tags": []
   },
   "outputs": [],
   "source": [
    "def edits2(word): \n",
    "    #\"All edits that are two edits away from `word`.\"\n",
    "    return (e2 for e1 in edits1(word) for e2 in edits1(e1))"
   ]
  },
  {
   "cell_type": "code",
   "execution_count": 9,
   "id": "37bc29bf",
   "metadata": {
    "execution": {
     "iopub.execute_input": "2023-12-11T11:31:59.603821Z",
     "iopub.status.busy": "2023-12-11T11:31:59.603404Z",
     "iopub.status.idle": "2023-12-11T11:31:59.822300Z",
     "shell.execute_reply": "2023-12-11T11:31:59.821101Z"
    },
    "papermill": {
     "duration": 0.228364,
     "end_time": "2023-12-11T11:31:59.825127",
     "exception": false,
     "start_time": "2023-12-11T11:31:59.596763",
     "status": "completed"
    },
    "tags": []
   },
   "outputs": [
    {
     "name": "stdout",
     "output_type": "stream",
     "text": [
      "corrected\n"
     ]
    }
   ],
   "source": [
    "print(correction('corrrectud'))"
   ]
  },
  {
   "cell_type": "code",
   "execution_count": 10,
   "id": "2453f7f9",
   "metadata": {
    "execution": {
     "iopub.execute_input": "2023-12-11T11:31:59.837889Z",
     "iopub.status.busy": "2023-12-11T11:31:59.837518Z",
     "iopub.status.idle": "2023-12-11T11:31:59.842493Z",
     "shell.execute_reply": "2023-12-11T11:31:59.841314Z"
    },
    "papermill": {
     "duration": 0.014495,
     "end_time": "2023-12-11T11:31:59.845073",
     "exception": false,
     "start_time": "2023-12-11T11:31:59.830578",
     "status": "completed"
    },
    "tags": []
   },
   "outputs": [],
   "source": [
    "def run_tests():\n",
    "    # Test correction function\n",
    "    test_correction('korrectud', 'corrected')"
   ]
  },
  {
   "cell_type": "code",
   "execution_count": 11,
   "id": "9234651f",
   "metadata": {
    "execution": {
     "iopub.execute_input": "2023-12-11T11:31:59.857697Z",
     "iopub.status.busy": "2023-12-11T11:31:59.857323Z",
     "iopub.status.idle": "2023-12-11T11:31:59.863064Z",
     "shell.execute_reply": "2023-12-11T11:31:59.862037Z"
    },
    "papermill": {
     "duration": 0.015035,
     "end_time": "2023-12-11T11:31:59.865509",
     "exception": false,
     "start_time": "2023-12-11T11:31:59.850474",
     "status": "completed"
    },
    "tags": []
   },
   "outputs": [],
   "source": [
    "def test_correction(input_word, expected_correction):\n",
    "    result = correction(input_word)\n",
    "    assert result == expected_correction, f\"Expected: {expected_correction}, Got: {result}\"\n",
    "    print(f\"Test Passed for '{input_word}': {result}\")\n"
   ]
  },
  {
   "cell_type": "code",
   "execution_count": 12,
   "id": "dd6ac315",
   "metadata": {
    "execution": {
     "iopub.execute_input": "2023-12-11T11:31:59.878315Z",
     "iopub.status.busy": "2023-12-11T11:31:59.877923Z",
     "iopub.status.idle": "2023-12-11T11:32:00.055530Z",
     "shell.execute_reply": "2023-12-11T11:32:00.054208Z"
    },
    "papermill": {
     "duration": 0.186933,
     "end_time": "2023-12-11T11:32:00.057914",
     "exception": false,
     "start_time": "2023-12-11T11:31:59.870981",
     "status": "completed"
    },
    "tags": []
   },
   "outputs": [
    {
     "name": "stdout",
     "output_type": "stream",
     "text": [
      "Test Passed for 'korrectud': corrected\n"
     ]
    }
   ],
   "source": [
    "run_tests()"
   ]
  },
  {
   "cell_type": "code",
   "execution_count": 13,
   "id": "21170c4c",
   "metadata": {
    "execution": {
     "iopub.execute_input": "2023-12-11T11:32:00.070367Z",
     "iopub.status.busy": "2023-12-11T11:32:00.069952Z",
     "iopub.status.idle": "2023-12-11T11:32:00.521131Z",
     "shell.execute_reply": "2023-12-11T11:32:00.519966Z"
    },
    "papermill": {
     "duration": 0.460565,
     "end_time": "2023-12-11T11:32:00.523908",
     "exception": false,
     "start_time": "2023-12-11T11:32:00.063343",
     "status": "completed"
    },
    "tags": []
   },
   "outputs": [],
   "source": [
    "corrected_text=[]\n",
    "for input_word in TEST:\n",
    "        corrected_word = correction(input_word)\n",
    "        corrected_text.append(corrected_word)\n",
    "        \n",
    "with open(\"corrected_test\", \"w\") as file:\n",
    "    # Write each element of the list to the file\n",
    "    for input_word in TEST:\n",
    "        file.write(str(correction(input_word)) + \" \")\n"
   ]
  }
 ],
 "metadata": {
  "kaggle": {
   "accelerator": "none",
   "dataSources": [
    {
     "datasetId": 1310,
     "sourceId": 2365,
     "sourceType": "datasetVersion"
    },
    {
     "datasetId": 616848,
     "sourceId": 1102281,
     "sourceType": "datasetVersion"
    }
   ],
   "dockerImageVersionId": 30615,
   "isGpuEnabled": false,
   "isInternetEnabled": true,
   "language": "python",
   "sourceType": "notebook"
  },
  "kernelspec": {
   "display_name": "Python 3",
   "language": "python",
   "name": "python3"
  },
  "language_info": {
   "codemirror_mode": {
    "name": "ipython",
    "version": 3
   },
   "file_extension": ".py",
   "mimetype": "text/x-python",
   "name": "python",
   "nbconvert_exporter": "python",
   "pygments_lexer": "ipython3",
   "version": "3.10.12"
  },
  "papermill": {
   "default_parameters": {},
   "duration": 6.089925,
   "end_time": "2023-12-11T11:32:00.951293",
   "environment_variables": {},
   "exception": null,
   "input_path": "__notebook__.ipynb",
   "output_path": "__notebook__.ipynb",
   "parameters": {},
   "start_time": "2023-12-11T11:31:54.861368",
   "version": "2.4.0"
  }
 },
 "nbformat": 4,
 "nbformat_minor": 5
}
